{
 "cells": [
  {
   "cell_type": "markdown",
   "id": "7b9b019d",
   "metadata": {},
   "source": [
    "Risk Management Project #1\n",
    "Pricing Options using the Black-Scholes-Merton Model (with Binomial Pricing Model)\n",
    "\n",
    "Allen Jerry Aries"
   ]
  },
  {
   "cell_type": "code",
   "execution_count": 45,
   "id": "bc506894",
   "metadata": {
    "scrolled": false
   },
   "outputs": [
    {
     "name": "stdout",
     "output_type": "stream",
     "text": [
      "Defaulting to user installation because normal site-packages is not writeable\n",
      "Requirement already satisfied: yfinance in c:\\users\\u015063\\appdata\\roaming\\python\\python39\\site-packages (0.2.12)\n",
      "Requirement already satisfied: numpy>=1.16.5 in c:\\users\\u015063\\appdata\\roaming\\python\\python39\\site-packages (from yfinance) (1.24.2)\n",
      "Requirement already satisfied: pandas>=1.3.0 in c:\\anaconda3\\lib\\site-packages (from yfinance) (1.4.4)\n",
      "Requirement already satisfied: appdirs>=1.4.4 in c:\\anaconda3\\lib\\site-packages (from yfinance) (1.4.4)\n",
      "Requirement already satisfied: html5lib>=1.1 in c:\\users\\u015063\\appdata\\roaming\\python\\python39\\site-packages (from yfinance) (1.1)\n",
      "Requirement already satisfied: multitasking>=0.0.7 in c:\\users\\u015063\\appdata\\roaming\\python\\python39\\site-packages (from yfinance) (0.0.11)\n",
      "Requirement already satisfied: cryptography>=3.3.2 in c:\\anaconda3\\lib\\site-packages (from yfinance) (37.0.1)\n",
      "Requirement already satisfied: pytz>=2022.5 in c:\\users\\u015063\\appdata\\roaming\\python\\python39\\site-packages (from yfinance) (2022.7.1)\n",
      "Requirement already satisfied: lxml>=4.9.1 in c:\\anaconda3\\lib\\site-packages (from yfinance) (4.9.1)\n",
      "Requirement already satisfied: requests>=2.26 in c:\\anaconda3\\lib\\site-packages (from yfinance) (2.28.1)\n",
      "Requirement already satisfied: beautifulsoup4>=4.11.1 in c:\\anaconda3\\lib\\site-packages (from yfinance) (4.11.1)\n",
      "Requirement already satisfied: frozendict>=2.3.4 in c:\\users\\u015063\\appdata\\roaming\\python\\python39\\site-packages (from yfinance) (2.3.5)\n",
      "Requirement already satisfied: soupsieve>1.2 in c:\\anaconda3\\lib\\site-packages (from beautifulsoup4>=4.11.1->yfinance) (2.3.1)\n",
      "Requirement already satisfied: cffi>=1.12 in c:\\anaconda3\\lib\\site-packages (from cryptography>=3.3.2->yfinance) (1.15.1)\n",
      "Requirement already satisfied: webencodings in c:\\anaconda3\\lib\\site-packages (from html5lib>=1.1->yfinance) (0.5.1)\n",
      "Requirement already satisfied: six>=1.9 in c:\\anaconda3\\lib\\site-packages (from html5lib>=1.1->yfinance) (1.16.0)\n",
      "Requirement already satisfied: python-dateutil>=2.8.1 in c:\\anaconda3\\lib\\site-packages (from pandas>=1.3.0->yfinance) (2.8.2)\n",
      "Requirement already satisfied: idna<4,>=2.5 in c:\\anaconda3\\lib\\site-packages (from requests>=2.26->yfinance) (3.3)\n",
      "Requirement already satisfied: charset-normalizer<3,>=2 in c:\\anaconda3\\lib\\site-packages (from requests>=2.26->yfinance) (2.0.4)\n",
      "Requirement already satisfied: urllib3<1.27,>=1.21.1 in c:\\anaconda3\\lib\\site-packages (from requests>=2.26->yfinance) (1.26.11)\n",
      "Requirement already satisfied: certifi>=2017.4.17 in c:\\anaconda3\\lib\\site-packages (from requests>=2.26->yfinance) (2022.9.14)\n",
      "Requirement already satisfied: pycparser in c:\\anaconda3\\lib\\site-packages (from cffi>=1.12->cryptography>=3.3.2->yfinance) (2.21)\n",
      "Defaulting to user installation because normal site-packages is not writeable\n",
      "Requirement already satisfied: pandas_market_calendars in c:\\users\\u015063\\appdata\\roaming\\python\\python39\\site-packages (4.1.4)\n",
      "Requirement already satisfied: pytz in c:\\users\\u015063\\appdata\\roaming\\python\\python39\\site-packages (from pandas_market_calendars) (2022.7.1)\n",
      "Requirement already satisfied: pandas>=1.1 in c:\\anaconda3\\lib\\site-packages (from pandas_market_calendars) (1.4.4)\n",
      "Requirement already satisfied: python-dateutil in c:\\anaconda3\\lib\\site-packages (from pandas_market_calendars) (2.8.2)\n",
      "Requirement already satisfied: exchange-calendars>=3.3 in c:\\users\\u015063\\appdata\\roaming\\python\\python39\\site-packages (from pandas_market_calendars) (4.2.5)\n",
      "Requirement already satisfied: toolz in c:\\anaconda3\\lib\\site-packages (from exchange-calendars>=3.3->pandas_market_calendars) (0.11.2)\n",
      "Requirement already satisfied: pyluach in c:\\users\\u015063\\appdata\\roaming\\python\\python39\\site-packages (from exchange-calendars>=3.3->pandas_market_calendars) (2.2.0)\n",
      "Requirement already satisfied: korean-lunar-calendar in c:\\users\\u015063\\appdata\\roaming\\python\\python39\\site-packages (from exchange-calendars>=3.3->pandas_market_calendars) (0.3.1)\n",
      "Requirement already satisfied: numpy in c:\\users\\u015063\\appdata\\roaming\\python\\python39\\site-packages (from exchange-calendars>=3.3->pandas_market_calendars) (1.24.2)\n",
      "Requirement already satisfied: six>=1.5 in c:\\anaconda3\\lib\\site-packages (from python-dateutil->pandas_market_calendars) (1.16.0)\n",
      "Defaulting to user installation because normal site-packages is not writeable\n",
      "Requirement already satisfied: yahoo_fin in c:\\users\\u015063\\appdata\\roaming\\python\\python39\\site-packages (0.8.9.1)\n",
      "Requirement already satisfied: requests-html in c:\\users\\u015063\\appdata\\roaming\\python\\python39\\site-packages (from yahoo_fin) (0.10.0)\n",
      "Requirement already satisfied: requests in c:\\anaconda3\\lib\\site-packages (from yahoo_fin) (2.28.1)\n",
      "Requirement already satisfied: feedparser in c:\\users\\u015063\\appdata\\roaming\\python\\python39\\site-packages (from yahoo_fin) (6.0.10)\n",
      "Requirement already satisfied: pandas in c:\\anaconda3\\lib\\site-packages (from yahoo_fin) (1.4.4)\n",
      "Requirement already satisfied: sgmllib3k in c:\\users\\u015063\\appdata\\roaming\\python\\python39\\site-packages (from feedparser->yahoo_fin) (1.0.0)\n",
      "Requirement already satisfied: python-dateutil>=2.8.1 in c:\\anaconda3\\lib\\site-packages (from pandas->yahoo_fin) (2.8.2)\n",
      "Requirement already satisfied: numpy>=1.18.5 in c:\\users\\u015063\\appdata\\roaming\\python\\python39\\site-packages (from pandas->yahoo_fin) (1.24.2)\n",
      "Requirement already satisfied: pytz>=2020.1 in c:\\users\\u015063\\appdata\\roaming\\python\\python39\\site-packages (from pandas->yahoo_fin) (2022.7.1)\n",
      "Requirement already satisfied: urllib3<1.27,>=1.21.1 in c:\\anaconda3\\lib\\site-packages (from requests->yahoo_fin) (1.26.11)\n",
      "Requirement already satisfied: charset-normalizer<3,>=2 in c:\\anaconda3\\lib\\site-packages (from requests->yahoo_fin) (2.0.4)\n",
      "Requirement already satisfied: idna<4,>=2.5 in c:\\anaconda3\\lib\\site-packages (from requests->yahoo_fin) (3.3)\n",
      "Requirement already satisfied: certifi>=2017.4.17 in c:\\anaconda3\\lib\\site-packages (from requests->yahoo_fin) (2022.9.14)\n",
      "Requirement already satisfied: pyquery in c:\\users\\u015063\\appdata\\roaming\\python\\python39\\site-packages (from requests-html->yahoo_fin) (2.0.0)\n",
      "Requirement already satisfied: fake-useragent in c:\\users\\u015063\\appdata\\roaming\\python\\python39\\site-packages (from requests-html->yahoo_fin) (1.1.3)\n",
      "Requirement already satisfied: pyppeteer>=0.0.14 in c:\\users\\u015063\\appdata\\roaming\\python\\python39\\site-packages (from requests-html->yahoo_fin) (1.0.2)\n",
      "Requirement already satisfied: w3lib in c:\\anaconda3\\lib\\site-packages (from requests-html->yahoo_fin) (1.21.0)\n",
      "Requirement already satisfied: bs4 in c:\\users\\u015063\\appdata\\roaming\\python\\python39\\site-packages (from requests-html->yahoo_fin) (0.0.1)\n",
      "Requirement already satisfied: parse in c:\\users\\u015063\\appdata\\roaming\\python\\python39\\site-packages (from requests-html->yahoo_fin) (1.19.0)\n",
      "Requirement already satisfied: importlib-metadata>=1.4 in c:\\anaconda3\\lib\\site-packages (from pyppeteer>=0.0.14->requests-html->yahoo_fin) (4.11.3)\n",
      "Requirement already satisfied: websockets<11.0,>=10.0 in c:\\users\\u015063\\appdata\\roaming\\python\\python39\\site-packages (from pyppeteer>=0.0.14->requests-html->yahoo_fin) (10.4)\n",
      "Requirement already satisfied: pyee<9.0.0,>=8.1.0 in c:\\users\\u015063\\appdata\\roaming\\python\\python39\\site-packages (from pyppeteer>=0.0.14->requests-html->yahoo_fin) (8.2.2)\n",
      "Requirement already satisfied: tqdm<5.0.0,>=4.42.1 in c:\\anaconda3\\lib\\site-packages (from pyppeteer>=0.0.14->requests-html->yahoo_fin) (4.64.1)\n",
      "Requirement already satisfied: appdirs<2.0.0,>=1.4.3 in c:\\anaconda3\\lib\\site-packages (from pyppeteer>=0.0.14->requests-html->yahoo_fin) (1.4.4)\n",
      "Requirement already satisfied: six>=1.5 in c:\\anaconda3\\lib\\site-packages (from python-dateutil>=2.8.1->pandas->yahoo_fin) (1.16.0)\n",
      "Requirement already satisfied: beautifulsoup4 in c:\\anaconda3\\lib\\site-packages (from bs4->requests-html->yahoo_fin) (4.11.1)\n",
      "Requirement already satisfied: importlib-resources>=5.0 in c:\\users\\u015063\\appdata\\roaming\\python\\python39\\site-packages (from fake-useragent->requests-html->yahoo_fin) (5.12.0)\n",
      "Requirement already satisfied: cssselect>=1.2.0 in c:\\users\\u015063\\appdata\\roaming\\python\\python39\\site-packages (from pyquery->requests-html->yahoo_fin) (1.2.0)\n",
      "Requirement already satisfied: lxml>=2.1 in c:\\anaconda3\\lib\\site-packages (from pyquery->requests-html->yahoo_fin) (4.9.1)\n",
      "Requirement already satisfied: zipp>=0.5 in c:\\anaconda3\\lib\\site-packages (from importlib-metadata>=1.4->pyppeteer>=0.0.14->requests-html->yahoo_fin) (3.8.0)\n",
      "Requirement already satisfied: colorama in c:\\anaconda3\\lib\\site-packages (from tqdm<5.0.0,>=4.42.1->pyppeteer>=0.0.14->requests-html->yahoo_fin) (0.4.5)\n",
      "Requirement already satisfied: soupsieve>1.2 in c:\\anaconda3\\lib\\site-packages (from beautifulsoup4->bs4->requests-html->yahoo_fin) (2.3.1)\n"
     ]
    },
    {
     "name": "stdout",
     "output_type": "stream",
     "text": [
      "Defaulting to user installation because normal site-packages is not writeable\n",
      "Requirement already satisfied: yahoo_fin in c:\\users\\u015063\\appdata\\roaming\\python\\python39\\site-packages (0.8.9.1)\n",
      "Collecting mibian\n",
      "  Downloading mibian-0.1.3.zip (4.3 kB)\n",
      "  Preparing metadata (setup.py): started\n",
      "  Preparing metadata (setup.py): finished with status 'done'\n",
      "Requirement already satisfied: requests in c:\\anaconda3\\lib\\site-packages (from yahoo_fin) (2.28.1)\n",
      "Requirement already satisfied: pandas in c:\\anaconda3\\lib\\site-packages (from yahoo_fin) (1.4.4)\n",
      "Requirement already satisfied: requests-html in c:\\users\\u015063\\appdata\\roaming\\python\\python39\\site-packages (from yahoo_fin) (0.10.0)\n",
      "Requirement already satisfied: feedparser in c:\\users\\u015063\\appdata\\roaming\\python\\python39\\site-packages (from yahoo_fin) (6.0.10)\n",
      "Requirement already satisfied: sgmllib3k in c:\\users\\u015063\\appdata\\roaming\\python\\python39\\site-packages (from feedparser->yahoo_fin) (1.0.0)\n",
      "Requirement already satisfied: python-dateutil>=2.8.1 in c:\\anaconda3\\lib\\site-packages (from pandas->yahoo_fin) (2.8.2)\n",
      "Requirement already satisfied: pytz>=2020.1 in c:\\users\\u015063\\appdata\\roaming\\python\\python39\\site-packages (from pandas->yahoo_fin) (2022.7.1)\n",
      "Requirement already satisfied: numpy>=1.18.5 in c:\\users\\u015063\\appdata\\roaming\\python\\python39\\site-packages (from pandas->yahoo_fin) (1.24.2)\n",
      "Requirement already satisfied: certifi>=2017.4.17 in c:\\anaconda3\\lib\\site-packages (from requests->yahoo_fin) (2022.9.14)\n",
      "Requirement already satisfied: charset-normalizer<3,>=2 in c:\\anaconda3\\lib\\site-packages (from requests->yahoo_fin) (2.0.4)\n",
      "Requirement already satisfied: idna<4,>=2.5 in c:\\anaconda3\\lib\\site-packages (from requests->yahoo_fin) (3.3)\n",
      "Requirement already satisfied: urllib3<1.27,>=1.21.1 in c:\\anaconda3\\lib\\site-packages (from requests->yahoo_fin) (1.26.11)\n",
      "Requirement already satisfied: bs4 in c:\\users\\u015063\\appdata\\roaming\\python\\python39\\site-packages (from requests-html->yahoo_fin) (0.0.1)\n",
      "Requirement already satisfied: pyppeteer>=0.0.14 in c:\\users\\u015063\\appdata\\roaming\\python\\python39\\site-packages (from requests-html->yahoo_fin) (1.0.2)\n",
      "Requirement already satisfied: fake-useragent in c:\\users\\u015063\\appdata\\roaming\\python\\python39\\site-packages (from requests-html->yahoo_fin) (1.1.3)\n",
      "Requirement already satisfied: w3lib in c:\\anaconda3\\lib\\site-packages (from requests-html->yahoo_fin) (1.21.0)\n",
      "Requirement already satisfied: pyquery in c:\\users\\u015063\\appdata\\roaming\\python\\python39\\site-packages (from requests-html->yahoo_fin) (2.0.0)\n",
      "Requirement already satisfied: parse in c:\\users\\u015063\\appdata\\roaming\\python\\python39\\site-packages (from requests-html->yahoo_fin) (1.19.0)\n",
      "Requirement already satisfied: pyee<9.0.0,>=8.1.0 in c:\\users\\u015063\\appdata\\roaming\\python\\python39\\site-packages (from pyppeteer>=0.0.14->requests-html->yahoo_fin) (8.2.2)\n",
      "Requirement already satisfied: importlib-metadata>=1.4 in c:\\anaconda3\\lib\\site-packages (from pyppeteer>=0.0.14->requests-html->yahoo_fin) (4.11.3)\n",
      "Requirement already satisfied: appdirs<2.0.0,>=1.4.3 in c:\\anaconda3\\lib\\site-packages (from pyppeteer>=0.0.14->requests-html->yahoo_fin) (1.4.4)\n",
      "Requirement already satisfied: websockets<11.0,>=10.0 in c:\\users\\u015063\\appdata\\roaming\\python\\python39\\site-packages (from pyppeteer>=0.0.14->requests-html->yahoo_fin) (10.4)\n",
      "Requirement already satisfied: tqdm<5.0.0,>=4.42.1 in c:\\anaconda3\\lib\\site-packages (from pyppeteer>=0.0.14->requests-html->yahoo_fin) (4.64.1)\n",
      "Requirement already satisfied: six>=1.5 in c:\\anaconda3\\lib\\site-packages (from python-dateutil>=2.8.1->pandas->yahoo_fin) (1.16.0)\n",
      "Requirement already satisfied: beautifulsoup4 in c:\\anaconda3\\lib\\site-packages (from bs4->requests-html->yahoo_fin) (4.11.1)\n",
      "Requirement already satisfied: importlib-resources>=5.0 in c:\\users\\u015063\\appdata\\roaming\\python\\python39\\site-packages (from fake-useragent->requests-html->yahoo_fin) (5.12.0)\n",
      "Requirement already satisfied: cssselect>=1.2.0 in c:\\users\\u015063\\appdata\\roaming\\python\\python39\\site-packages (from pyquery->requests-html->yahoo_fin) (1.2.0)\n",
      "Requirement already satisfied: lxml>=2.1 in c:\\anaconda3\\lib\\site-packages (from pyquery->requests-html->yahoo_fin) (4.9.1)\n",
      "Requirement already satisfied: zipp>=0.5 in c:\\anaconda3\\lib\\site-packages (from importlib-metadata>=1.4->pyppeteer>=0.0.14->requests-html->yahoo_fin) (3.8.0)\n",
      "Requirement already satisfied: colorama in c:\\anaconda3\\lib\\site-packages (from tqdm<5.0.0,>=4.42.1->pyppeteer>=0.0.14->requests-html->yahoo_fin) (0.4.5)\n",
      "Requirement already satisfied: soupsieve>1.2 in c:\\anaconda3\\lib\\site-packages (from beautifulsoup4->bs4->requests-html->yahoo_fin) (2.3.1)\n",
      "Building wheels for collected packages: mibian\n",
      "  Building wheel for mibian (setup.py): started\n",
      "  Building wheel for mibian (setup.py): finished with status 'done'\n",
      "  Created wheel for mibian: filename=mibian-0.1.3-py3-none-any.whl size=4026 sha256=cb7e928f0af9fdc26b43f6bb930c4336a2a4bd748723b7196b51493afbb6ecbe\n",
      "  Stored in directory: c:\\users\\u015063\\appdata\\local\\pip\\cache\\wheels\\43\\b9\\31\\945abf284df5614e45ec4fccb8a892025987093558c94902fb\n",
      "Successfully built mibian\n",
      "Installing collected packages: mibian\n",
      "Successfully installed mibian-0.1.3\n"
     ]
    }
   ],
   "source": [
    "#installing required packages\n",
    "!pip install yfinance\n",
    "!pip install pandas_market_calendars\n",
    "!pip install yahoo_fin\n",
    "!pip install yahoo_fin mibian"
   ]
  },
  {
   "cell_type": "code",
   "execution_count": 1,
   "id": "6b35b56c",
   "metadata": {},
   "outputs": [],
   "source": [
    "import yfinance as yf\n",
    "import numpy as np\n",
    "import pandas as pd\n",
    "import seaborn as sns\n",
    "import matplotlib.pyplot as plt\n",
    "from datetime import datetime, timedelta\n",
    "import time\n",
    "import math\n",
    "from scipy.stats import norm\n",
    "import pandas_market_calendars as mcal\n",
    "from yahoo_fin import options, stock_info\n",
    "import mibian\n",
    "import random"
   ]
  },
  {
   "cell_type": "markdown",
   "id": "cf385d7d",
   "metadata": {},
   "source": [
    "# 1. Selection of the Stock ('TSLA' = Tesla and Downloading Adjusted Closed Prices from Yahoo! Finance "
   ]
  },
  {
   "cell_type": "code",
   "execution_count": 2,
   "id": "81fbab0b",
   "metadata": {},
   "outputs": [
    {
     "name": "stdout",
     "output_type": "stream",
     "text": [
      "[*********************100%***********************]  1 of 1 completed\n"
     ]
    }
   ],
   "source": [
    "start_date = '2022-01-01'\n",
    "end_date = '2022-12-31'\n",
    "ticker = 'TSLA'\n",
    "data = yf.download(ticker, start=start_date, end=end_date)['Adj Close']"
   ]
  },
  {
   "cell_type": "code",
   "execution_count": 3,
   "id": "8beeed28",
   "metadata": {},
   "outputs": [
    {
     "data": {
      "text/html": [
       "<div>\n",
       "<style scoped>\n",
       "    .dataframe tbody tr th:only-of-type {\n",
       "        vertical-align: middle;\n",
       "    }\n",
       "\n",
       "    .dataframe tbody tr th {\n",
       "        vertical-align: top;\n",
       "    }\n",
       "\n",
       "    .dataframe thead th {\n",
       "        text-align: right;\n",
       "    }\n",
       "</style>\n",
       "<table border=\"1\" class=\"dataframe\">\n",
       "  <thead>\n",
       "    <tr style=\"text-align: right;\">\n",
       "      <th></th>\n",
       "      <th>Adj Close</th>\n",
       "    </tr>\n",
       "    <tr>\n",
       "      <th>Date</th>\n",
       "      <th></th>\n",
       "    </tr>\n",
       "  </thead>\n",
       "  <tbody>\n",
       "    <tr>\n",
       "      <th>2022-01-03</th>\n",
       "      <td>399.926666</td>\n",
       "    </tr>\n",
       "    <tr>\n",
       "      <th>2022-01-04</th>\n",
       "      <td>383.196655</td>\n",
       "    </tr>\n",
       "    <tr>\n",
       "      <th>2022-01-05</th>\n",
       "      <td>362.706665</td>\n",
       "    </tr>\n",
       "    <tr>\n",
       "      <th>2022-01-06</th>\n",
       "      <td>354.899994</td>\n",
       "    </tr>\n",
       "    <tr>\n",
       "      <th>2022-01-07</th>\n",
       "      <td>342.320007</td>\n",
       "    </tr>\n",
       "  </tbody>\n",
       "</table>\n",
       "</div>"
      ],
      "text/plain": [
       "             Adj Close\n",
       "Date                  \n",
       "2022-01-03  399.926666\n",
       "2022-01-04  383.196655\n",
       "2022-01-05  362.706665\n",
       "2022-01-06  354.899994\n",
       "2022-01-07  342.320007"
      ]
     },
     "execution_count": 3,
     "metadata": {},
     "output_type": "execute_result"
    }
   ],
   "source": [
    "data = pd.DataFrame(data)\n",
    "data.head()"
   ]
  },
  {
   "cell_type": "code",
   "execution_count": 4,
   "id": "c53e5436",
   "metadata": {},
   "outputs": [
    {
     "data": {
      "text/plain": [
       "<AxesSubplot:xlabel='Date'>"
      ]
     },
     "execution_count": 4,
     "metadata": {},
     "output_type": "execute_result"
    },
    {
     "data": {
      "image/png": "[encoded data removed]",
      "text/plain": [
       "<Figure size 640x480 with 1 Axes>"
      ]
     },
     "metadata": {},
     "output_type": "display_data"
    }
   ],
   "source": [
    "data['Adj Close'].plot()"
   ]
  },
  {
   "cell_type": "markdown",
   "id": "81059bc8",
   "metadata": {},
   "source": [
    "Calculation of the daily returns:"
   ]
  },
  {
   "cell_type": "code",
   "execution_count": 5,
   "id": "56238dab",
   "metadata": {},
   "outputs": [
    {
     "data": {
      "text/plain": [
       "<AxesSubplot:xlabel='Date'>"
      ]
     },
     "execution_count": 5,
     "metadata": {},
     "output_type": "execute_result"
    },
    {
     "data": {
      "image/png": "[encoded data removed]",
      "text/plain": [
       "<Figure size 640x480 with 1 Axes>"
      ]
     },
     "metadata": {},
     "output_type": "display_data"
    }
   ],
   "source": [
    "data['returns'] = data['Adj Close'].pct_change().dropna()\n",
    "data['returns'].plot()"
   ]
  },
  {
   "cell_type": "markdown",
   "id": "60fc1e3a",
   "metadata": {},
   "source": [
    "# 2. Choosing and Estimation of the necessary parameters for option pricing"
   ]
  },
  {
   "cell_type": "markdown",
   "id": "c7e2d505",
   "metadata": {},
   "source": [
    "a.  A projection period of 365 days is chosen while the US risk free rate given on 06 March 2023 is r = 3.97% and taken from https://ycharts.com/indicators/10_year_treasury_rate"
   ]
  },
  {
   "cell_type": "code",
   "execution_count": 6,
   "id": "5b348960",
   "metadata": {},
   "outputs": [],
   "source": [
    "r = 0.0397\n",
    "T= 1 #year"
   ]
  },
  {
   "cell_type": "markdown",
   "id": "1b76ab86",
   "metadata": {},
   "source": [
    "b. The projection period \"T\": T =  1year = 365 days, the same period used for the market data, and the risk "
   ]
  },
  {
   "cell_type": "markdown",
   "id": "e0cc5ad3",
   "metadata": {},
   "source": [
    "c. Calculation of the annualized volatility:"
   ]
  },
  {
   "cell_type": "code",
   "execution_count": 7,
   "id": "b04540bf",
   "metadata": {},
   "outputs": [],
   "source": [
    "t = len(data[data['Adj Close']>0]) #actual trading days"
   ]
  },
  {
   "cell_type": "code",
   "execution_count": 8,
   "id": "42717618",
   "metadata": {},
   "outputs": [
    {
     "name": "stdout",
     "output_type": "stream",
     "text": [
      "There are 251 days for which Tesla was traded in 2022.\n"
     ]
    }
   ],
   "source": [
    "print(f'There are {t} days for which Tesla was traded in 2022.')\n"
   ]
  },
  {
   "cell_type": "code",
   "execution_count": 9,
   "id": "57f89ca8",
   "metadata": {},
   "outputs": [
    {
     "name": "stdout",
     "output_type": "stream",
     "text": [
      "             Adj Close   returns  Deviations  Squared Deviations\n",
      "Date                                                            \n",
      "2022-01-03  399.926666       NaN         NaN                 NaN\n",
      "2022-01-04  383.196655 -0.041833   -0.037985            0.001443\n",
      "2022-01-05  362.706665 -0.053471   -0.049624            0.002463\n",
      "2022-01-06  354.899994 -0.021523   -0.017676            0.000312\n",
      "2022-01-07  342.320007 -0.035447   -0.031599            0.000999\n",
      "...                ...       ...         ...                 ...\n",
      "2022-12-23  123.150002 -0.017551   -0.013703            0.000188\n",
      "2022-12-27  109.099998 -0.114089   -0.110241            0.012153\n",
      "2022-12-28  112.709999  0.033089    0.036936            0.001364\n",
      "2022-12-29  121.820000  0.080827    0.084674            0.007170\n",
      "2022-12-30  123.180000  0.011164    0.015012            0.000225\n",
      "\n",
      "[251 rows x 4 columns]\n",
      "0.04107304878434106\n"
     ]
    }
   ],
   "source": [
    "data['Deviations'] = data['returns'] - np.mean(data['returns'])\n",
    "data['Squared Deviations'] = data['Deviations'].apply(lambda x: x**2)\n",
    "daily_volatility  = np.sqrt(np.sum(data['Squared Deviations'])/(t-1))\n",
    "print(data)\n",
    "print(daily_volatility)"
   ]
  },
  {
   "cell_type": "markdown",
   "id": "65ae13d1",
   "metadata": {},
   "source": [
    "# 3. Pricing a European Put using the BSM Option Pricing Model"
   ]
  },
  {
   "cell_type": "markdown",
   "id": "1ef574f2",
   "metadata": {},
   "source": [
    "a. Estimating the price of the put:"
   ]
  },
  {
   "cell_type": "markdown",
   "id": "79e6a225",
   "metadata": {},
   "source": [
    "I. Strike Price X is calculated from the mean µ of the market data"
   ]
  },
  {
   "cell_type": "code",
   "execution_count": 10,
   "id": "d6ca9bed",
   "metadata": {},
   "outputs": [
    {
     "name": "stdout",
     "output_type": "stream",
     "text": [
      "263.09\n"
     ]
    }
   ],
   "source": [
    "X1 = data['Adj Close'].mean()\n",
    "print(\"{:.2f}\".format(X1))"
   ]
  },
  {
   "cell_type": "markdown",
   "id": "e1fe3ca6",
   "metadata": {},
   "source": [
    "II. Strike Price is set to be 10% of the current market price"
   ]
  },
  {
   "cell_type": "markdown",
   "id": "e621c737",
   "metadata": {},
   "source": [
    "Obtaining the current market price:"
   ]
  },
  {
   "cell_type": "code",
   "execution_count": 11,
   "id": "aa9f28b6",
   "metadata": {},
   "outputs": [
    {
     "name": "stdout",
     "output_type": "stream",
     "text": [
      "[*********************100%***********************]  1 of 1 completed\n",
      "\n",
      "1 Failed download:\n",
      "- TSLA: No data found for this date range, symbol may be delisted\n",
      "[*********************100%***********************]  1 of 1 completed\n",
      "Date\n",
      "2023-03-24    190.410004\n",
      "Name: Adj Close, dtype: float64\n"
     ]
    }
   ],
   "source": [
    "today = datetime.today().strftime('%Y-%m-%d')\n",
    "S = yf.download(ticker, start=today, end=today)['Adj Close']\n",
    "data_found = False\n",
    "\n",
    "i = 0\n",
    "while not data_found:\n",
    "    i = i + 1\n",
    "    available_date = (datetime.today() - timedelta(days=i)).strftime('%Y-%m-%d')\n",
    "    try:\n",
    "        if S.empty:\n",
    "            S = yf.download(ticker, start=available_date, end=today)['Adj Close']\n",
    "        \n",
    "        if not S.empty:\n",
    "            print(S)\n",
    "            data_found = True\n",
    "        \n",
    "    except:\n",
    "        continue\n",
    "S = S.values[0]"
   ]
  },
  {
   "cell_type": "markdown",
   "id": "3c441ab1",
   "metadata": {},
   "source": [
    "Setting the strike price to be 10% more than the current market price:"
   ]
  },
  {
   "cell_type": "code",
   "execution_count": 12,
   "id": "f12a01aa",
   "metadata": {},
   "outputs": [
    {
     "name": "stdout",
     "output_type": "stream",
     "text": [
      "Current market price is 190.41\n",
      "209.45\n"
     ]
    }
   ],
   "source": [
    "X2 = S*1.1\n",
    "print(f'Current market price is {S:.2f}')\n",
    "print(\"{:.2f}\".format(X2))"
   ]
  },
  {
   "cell_type": "markdown",
   "id": "4517f590",
   "metadata": {},
   "source": [
    "Definition of the European Put Function:\n",
    "\n",
    "$d_1 = \\frac{\\ln \\big(\\frac{S_{0}}{K}\\big) + (r + \\frac{1}{2} \\sigma^2)T}{\\sigma \\sqrt{T}}$ \n",
    "\n",
    "$d_2 = d_{1} - \\sigma \\sqrt{T}$\n",
    "\n",
    "\n",
    "$P_{0} = X e^{-rT}[1 - N(d_{2})] - S_{0}[1-N(d_{1})]$\n",
    "\n",
    "where\n",
    "\n",
    "$N(x) = \\int_{-\\infty}^x \\frac{1}{\\sqrt{2\\pi}}e^{\\frac{-x^{2}}{2}} dx$, the standard normal cummulative probability density\n"
   ]
  },
  {
   "cell_type": "code",
   "execution_count": 13,
   "id": "262c1ab4",
   "metadata": {},
   "outputs": [
    {
     "name": "stdout",
     "output_type": "stream",
     "text": [
      "0.6507194706220615\n"
     ]
    }
   ],
   "source": [
    "sigma =  annualized_volatility   = daily_volatility* np.sqrt(t)\n",
    "print(sigma)"
   ]
  },
  {
   "cell_type": "code",
   "execution_count": 14,
   "id": "93f34323",
   "metadata": {},
   "outputs": [],
   "source": [
    "def european_put(S, X, T, r, sigma):\n",
    "\n",
    "    d1 = (np.log(S/X) + (r + 0.5*sigma**2)*T) / (sigma*math.sqrt(T))\n",
    "    d2 = d1 - sigma*math.sqrt(T)\n",
    "\n",
    "    N_d1 = norm.cdf(d1)\n",
    "    N_d2 = norm.cdf(d2)\n",
    "\n",
    "    put_price = X*math.exp(-r*T)*(1-N_d2) - S*(1-N_d1)\n",
    "\n",
    "    return put_price"
   ]
  },
  {
   "cell_type": "markdown",
   "id": "7b54a7cb",
   "metadata": {},
   "source": [
    "Case I:"
   ]
  },
  {
   "cell_type": "code",
   "execution_count": 15,
   "id": "f78e1c4e",
   "metadata": {},
   "outputs": [
    {
     "name": "stdout",
     "output_type": "stream",
     "text": [
      "For a Current Stock Price of 190.41, Strike Price of 263.09, and a projection period of 1 year, the put price should be 92.82.\n"
     ]
    }
   ],
   "source": [
    "P_01 = max(0,european_put(S, X1, T, r, sigma))\n",
    "\n",
    "print(f'For a Current Stock Price of {S:.2f}, Strike Price of {X1:.2f}, and a projection period of 1 year, the put price should be {P_01:.2f}.')"
   ]
  },
  {
   "cell_type": "markdown",
   "id": "470d38b6",
   "metadata": {},
   "source": [
    "Case II:"
   ]
  },
  {
   "cell_type": "code",
   "execution_count": 16,
   "id": "2d68f13b",
   "metadata": {},
   "outputs": [
    {
     "name": "stdout",
     "output_type": "stream",
     "text": [
      "For a Current Stock Price of 190.41, Strike Price of 209.45 equal to 10% of the current stock price, the put price should be 55.58.\n"
     ]
    }
   ],
   "source": [
    "P_02 = max(0,european_put(S, X2, T, r, sigma))\n",
    "print(f'For a Current Stock Price of {S:.2f}, Strike Price of {X2:.2f} equal to 10% of the current stock price, the put price should be {P_02:.2f}.')"
   ]
  },
  {
   "cell_type": "markdown",
   "id": "f5b200b7",
   "metadata": {},
   "source": [
    "b. Estimation of the respective call prices using the Parity Condition"
   ]
  },
  {
   "cell_type": "code",
   "execution_count": 17,
   "id": "46e14798",
   "metadata": {},
   "outputs": [
    {
     "name": "stdout",
     "output_type": "stream",
     "text": [
      "30.38\n"
     ]
    }
   ],
   "source": [
    "C_01  = P_01 + S - X1*math.exp(-r*T)\n",
    "print(\"{:.2f}\".format(C_01))"
   ]
  },
  {
   "cell_type": "code",
   "execution_count": 18,
   "id": "63e9c58a",
   "metadata": {},
   "outputs": [
    {
     "name": "stdout",
     "output_type": "stream",
     "text": [
      "44.69\n"
     ]
    }
   ],
   "source": [
    "C_02  = P_02 + S - X2*math.exp(-r*T)\n",
    "print(\"{:.2f}\".format(C_02))"
   ]
  },
  {
   "cell_type": "markdown",
   "id": "9e7287b7",
   "metadata": {},
   "source": [
    "c. Payoff and PnL of the calls"
   ]
  },
  {
   "cell_type": "code",
   "execution_count": 19,
   "id": "2eae45f4",
   "metadata": {},
   "outputs": [
    {
     "name": "stdout",
     "output_type": "stream",
     "text": [
      "0.00\n"
     ]
    }
   ],
   "source": [
    "call_payoff_1 = max(0, S - X1)\n",
    "print(\"{:.2f}\".format(call_payoff_1))"
   ]
  },
  {
   "cell_type": "code",
   "execution_count": 20,
   "id": "42095faa",
   "metadata": {},
   "outputs": [
    {
     "name": "stdout",
     "output_type": "stream",
     "text": [
      "-30.38\n"
     ]
    }
   ],
   "source": [
    "call_pnl_1 = call_payoff_1 - C_01\n",
    "print(\"{:.2f}\".format(call_pnl_1))"
   ]
  },
  {
   "cell_type": "code",
   "execution_count": 21,
   "id": "772d396d",
   "metadata": {},
   "outputs": [
    {
     "name": "stdout",
     "output_type": "stream",
     "text": [
      "0.00\n"
     ]
    }
   ],
   "source": [
    "call_payoff_2 = max(0, S - X2)\n",
    "print(\"{:.2f}\".format(call_payoff_1))"
   ]
  },
  {
   "cell_type": "code",
   "execution_count": 22,
   "id": "b9d0c3c3",
   "metadata": {},
   "outputs": [
    {
     "name": "stdout",
     "output_type": "stream",
     "text": [
      "-44.69\n"
     ]
    }
   ],
   "source": [
    "call_pnl_2 = call_payoff_2 - C_02\n",
    "print(\"{:.2f}\".format(call_pnl_2))"
   ]
  },
  {
   "cell_type": "markdown",
   "id": "0d2b0ffe",
   "metadata": {},
   "source": [
    "d) Bonus Question: Estimation of the Price of an American Call using the Binomial Options Pricing Model"
   ]
  },
  {
   "cell_type": "markdown",
   "id": "2eda755a",
   "metadata": {},
   "source": [
    "Estimation of the up and down factors:\n",
    "\n",
    "$U = e^{\\sigma\\sqrt{t}}$\n",
    "\n",
    "$D = e^{-\\sigma\\sqrt{t}}$\n",
    "\n",
    "Estimation of Risk-Neutral Probabilities:\n",
    "\n",
    "$\\pi_{u} = \\frac{e^{rt}-D}{U-D}$\n",
    "\n",
    "$\\pi_{d} = 1 - \\pi_{u}$\n",
    "\n",
    "Calculation of the price of the underlying asset after 1 period:\n",
    "\n",
    "$S_{U} = S_{0}U$\n",
    "\n",
    "$S_{D} = S_{0}D$\n",
    "\n",
    "Calculation of the option price after 1 year:\n",
    "\n",
    "$C_{U} = \\max(0, S_{U} - X)$\n",
    "\n",
    "$C_{D} = \\max(0, S_{D} - X)$\n",
    "\n",
    "Estimation of the Expected Value of the Call Option after 1 period:\n",
    "\n",
    "$C_{0}' = C_{U}\\pi_{u} + C_{D}\\pi_{d}$\n",
    "\n",
    "\n",
    "Evaluating the expected value of the call option today:\n",
    "\n",
    "$C_{0} = C_{0}' e^{-rT}$"
   ]
  },
  {
   "cell_type": "code",
   "execution_count": 23,
   "id": "7757c7a9",
   "metadata": {},
   "outputs": [
    {
     "name": "stdout",
     "output_type": "stream",
     "text": [
      "36.42\n"
     ]
    }
   ],
   "source": [
    "#Implementation\n",
    "def american_call_bopm(S,X,sigma,r,T):\n",
    "    U = math.exp(sigma*np.sqrt(T))\n",
    "    D = math.exp(-sigma*np.sqrt(T))\n",
    "    pi_u = (math.exp(r*T)-D) / (U-D)\n",
    "    pi_d = 1 - pi_u\n",
    "    S_U = S*U\n",
    "    S_D = S*D\n",
    "    C_U = max(0, S_U - X)\n",
    "    C_D= max(0, S_D - X)\n",
    "    C_0_prime = C_U*pi_u + C_D*pi_d\n",
    "    C_0 = C_0_prime*math.exp(-r*T)\n",
    "    return C_0\n",
    "            \n",
    "print(\"{:.2f}\".format(american_call_bopm(S, X1, sigma, r, T)))"
   ]
  },
  {
   "cell_type": "markdown",
   "id": "d5b013cd",
   "metadata": {},
   "source": [
    "4. Greeks\n",
    "\n",
    "$\\Delta_{call} = N(d_{1})$\n",
    "\n",
    "$\\Delta_{put} = N(d_{1})-1$\n",
    "\n",
    "$\\Gamma = \\frac{N'(d_{1})}{S_{0}\\sqrt{T}}$\n",
    "\n",
    "$\\Theta_{call} =  - \\frac{S_{0} N'(d_{1}) \\sigma} {2 \\sqrt{T}} - rXe^{-rT}N(d_{2})$\n",
    "\n",
    "$\\Theta_{put} =  - \\frac{S_{0} N'(d_{1}) \\sigma} {2 \\sqrt{T}} + rXe^{-rT}N(-d_{2})$\n",
    "\n",
    "$\\nu = S_{0}N'(d_{1}) \\sqrt{T}$\n",
    "\n",
    "$\\rho_{call} = XTe^{-rT}N(d_{2})$\n",
    "\n",
    "$\\rho_{put} = -XTe^{-rT}N(-d_{2})$"
   ]
  },
  {
   "cell_type": "code",
   "execution_count": 24,
   "id": "633ab904",
   "metadata": {},
   "outputs": [],
   "source": [
    "def greeks(S,X,r,T, sigma):\n",
    "    d1 = (np.log(S/X) + (r + 0.5*sigma**2)*T) / (sigma*math.sqrt(T))\n",
    "    d2 = d1 - sigma*math.sqrt(T)\n",
    "    N_d1 = delta_call = norm.cdf(d1)\n",
    "    N_d2 = norm.cdf(d2)\n",
    "    N_d1_prime = norm.pdf(d1)\n",
    "    N_d2_prime = norm.pdf(d2)\n",
    "    delta_put = delta_call - 1\n",
    "    gamma = N_d1_prime/(S*np.sqrt(T))\n",
    "    theta_call = -S*(N_d1_prime*sigma/(2*np.sqrt(T)))  - r*X*math.exp(-r*T)*N_d2\n",
    "    theta_put = -S*(N_d1_prime*sigma/(2*np.sqrt(T))) + r*X*math.exp(-r*T)*N_d2\n",
    "    vega = S*N_d1_prime*np.sqrt(T)\n",
    "    rho_call = X*T*math.exp(-r*T)*(N_d2)\n",
    "    rho_put = -X*T*math.exp(-r*T)*(1-N_d2)\n",
    "    return delta_call, delta_put, gamma, theta_call, theta_put, vega, rho_call, rho_put    "
   ]
  },
  {
   "cell_type": "code",
   "execution_count": 25,
   "id": "a2f36af6",
   "metadata": {},
   "outputs": [
    {
     "name": "stdout",
     "output_type": "stream",
     "text": [
      "Delta: If the asset prices increase by $1, the call price will increase by $0.46 while a corresponding put option will increase/decrease by $-0.54.\n",
      "Gamma: If the asset prices increase by $1, the delta of the option will change by 0.0021.\n",
      "Theta: The call and the put price will respectively decrease by -0.11 and -0.09 daily.\n"
     ]
    }
   ],
   "source": [
    "#Taking Case I as an example.\n",
    "delta_call, delta_put, gamma, theta_call, theta_put, vega, rho_call, rho_put   = greeks(S, X1, r, T, sigma)\n",
    "print(f'Delta: If the asset prices increase by $1, the call price will increase by ${delta_call:.2f} while a corresponding put option will increase/decrease by ${delta_put:.2f}.')\n",
    "print(f'Gamma: If the asset prices increase by $1, the delta of the option will change by {gamma:.4f}.')\n",
    "print(f'Theta: The call and the put price will respectively decrease by {theta_call/t:.2f} and {theta_put/t:.2f} daily.')"
   ]
  },
  {
   "cell_type": "code",
   "execution_count": 26,
   "id": "19d9462e",
   "metadata": {},
   "outputs": [
    {
     "name": "stdout",
     "output_type": "stream",
     "text": [
      "Vega: A 1.9% decrease in volatility will decrease the price of an option by 75.37020484777756.\n"
     ]
    }
   ],
   "source": [
    "delta_call, delta_put, gamma, theta_call, theta_put, vega, rho_call, rho_put   = greeks(S, X1, r, T, (1-0.019)*sigma)\n",
    "print(f'Vega: A 1.9% decrease in volatility will decrease the price of an option by {vega}.')"
   ]
  },
  {
   "cell_type": "code",
   "execution_count": 27,
   "id": "45c17a50",
   "metadata": {},
   "outputs": [
    {
     "name": "stdout",
     "output_type": "stream",
     "text": [
      "Rho: A 0.7% increase in the risk-free rate will increase/decrease the call and option price by 56.86804676850614 and -194.22 respectively.\n"
     ]
    }
   ],
   "source": [
    "delta_call, delta_put, gamma, theta_call, theta_put, vega, rho_call, rho_put = greeks(S, X1, r+0.007, T, sigma)\n",
    "print(f'Rho: A 0.7% increase in the risk-free rate will increase/decrease the call and option price by {rho_call} and {rho_put:.2f} respectively.')\n"
   ]
  },
  {
   "cell_type": "markdown",
   "id": "795aa2bf",
   "metadata": {},
   "source": [
    "5. Delta Hedging\n",
    "\n",
    "a) Assuming you are long 15 000 shares of your chosen asset, determine the number of options necessary to create a delta neutral portfolio (use a Covered Call or a Protective Put strategy) Interpret the result\n",
    "\n",
    "b) Estimate the effect on your delta neutral portfolio if the market price of your asset increases by $0.67 Interpret the result\n",
    "\n",
    "c) What is the impact on delta after the $0.67 increase? How should you rebalance your portfolio to maintain the delta hedge? Make the necessary calculations and interpret the result"
   ]
  },
  {
   "cell_type": "code",
   "execution_count": 28,
   "id": "1876e031",
   "metadata": {},
   "outputs": [
    {
     "name": "stdout",
     "output_type": "stream",
     "text": [
      "Number of Calls needed to Delta Hedge: 32895\n",
      "Number of Standard Contracts needed to Delta Hedge: 329\n"
     ]
    }
   ],
   "source": [
    "#taking Case I as an example:\n",
    "#a\n",
    "#Covered Call Strategy\n",
    "delta_call, delta_put, gamma, theta_call, theta_put, vega, rho_call, rho_put = greeks(S, X1, r, T, sigma)\n",
    "\n",
    "shares =  15000\n",
    "\n",
    "number_of_calls_deltahedge = shares / delta_call\n",
    "\n",
    "options_per_contract = 100\n",
    "\n",
    "print(f'Number of Calls needed to Delta Hedge: {math.ceil(number_of_calls_deltahedge)}')\n",
    "print(f'Number of Standard Contracts needed to Delta Hedge: {math.ceil(number_of_calls_deltahedge/options_per_contract)}')"
   ]
  },
  {
   "cell_type": "markdown",
   "id": "90ee343a",
   "metadata": {},
   "source": [
    "$d0 = dS*\\Delta $"
   ]
  },
  {
   "cell_type": "code",
   "execution_count": 29,
   "id": "dceaca56",
   "metadata": {},
   "outputs": [
    {
     "name": "stdout",
     "output_type": "stream",
     "text": [
      "The call price will also increase by $0.31 per option.\n",
      "Total Change in the Stock Position: $10050.00\n",
      "Total Change in the Option Position: $-10050.00.\n",
      "Net Change in the Porftolio Value: $-0.00.\n",
      "The rebalanced delta-neutral portfolio was protected from a small change in the price of the stock.\n"
     ]
    }
   ],
   "source": [
    "#b\n",
    "change_asset_price = 0.67\n",
    "change_option_price = delta_call * change_asset_price\n",
    "print(f'The call price will also increase by ${change_option_price:.2f} per option.')\n",
    "print(f'Total Change in the Stock Position: ${change_asset_price*shares:.2f}')\n",
    "print(f'Total Change in the Option Position: ${number_of_calls_deltahedge*-change_option_price:.2f}.')\n",
    "print(f'Net Change in the Porftolio Value: ${(change_asset_price*shares+number_of_calls_deltahedge*-change_option_price):.2f}.')\n",
    "print('The rebalanced delta-neutral portfolio was protected from a small change in the price of the stock.')"
   ]
  },
  {
   "cell_type": "markdown",
   "id": "6eea35d4",
   "metadata": {},
   "source": [
    "#c When rebalancing a delta-hedged portfolio, the change in the option's delta ($\\Delta$) needs yo be considered due to the change in the underlying asset's price. Let $\\Delta_1$ be the initial delta of the option, and $\\Delta_2$ be the new delta after the price change:\n",
    "\n",
    "$\\Delta_{2} - \\Delta_{1} = \\left(\\frac{dO}{dS}\\right)_{2} - \\left(\\frac{dO}{dS}\\right)_{1}$\n",
    "\n",
    "Here, $\\frac{dO}{dS}$ represents the delta of the option at different points in time, and $O$ and $S$ represent the option price and the underlying stock price, respectively.\n",
    "\n",
    "Suppose, the initial position holds $N_{\\text{contracts}}$ option contracts and $N_{\\text{shares}}$ shares of the underlying asset. After the price change, there is a need to adjust the number of option contracts to $N_{\\text{contracts}} + \\Delta N_{\\text{contracts}}$ to maintain a delta-neutral position.\n",
    "\n",
    "The change in the total delta of the position should be equal to the change in the delta of the option multiplied by the change in the number of contracts:\n",
    "\n",
    "$N_{\\text{shares}} \\times (\\Delta_{2} - \\Delta_{1}) = (\\Delta N_{\\text{contracts}}) \\times \\Delta_{\\text{option}} \\times \\text{Options per contract}$\n",
    "\n",
    "Solving for $\\Delta N_{\\text{contracts}}$:\n",
    "\n",
    "$\\Delta N_{\\text{contracts}} = \\frac{N_{\\text{shares}} \\times (\\Delta_{2} - \\Delta_{1})}{\\Delta_{\\text{option}} \\times \\text{Options per contract}}$\n"
   ]
  },
  {
   "cell_type": "code",
   "execution_count": 30,
   "id": "998ee7ae",
   "metadata": {},
   "outputs": [
    {
     "name": "stdout",
     "output_type": "stream",
     "text": [
      "To maintain the delta hedge, 1 contract(s) need(s) to be added.\n"
     ]
    }
   ],
   "source": [
    "#c\n",
    "initial_delta = delta_call\n",
    "d1 = (np.log((S+0.67)/X1) + (r + 0.5*sigma**2)*T) / (sigma*math.sqrt(T))\n",
    "new_delta= norm.cdf(d1)\n",
    "delta_change = new_delta - initial_delta\n",
    "additional_contracts = shares*delta_change / (new_delta * options_per_contract)\n",
    "print(f'To maintain the delta hedge, {math.ceil(additional_contracts)} contract(s) need(s) to be added.')"
   ]
  },
  {
   "cell_type": "markdown",
   "id": "3569e725",
   "metadata": {},
   "source": [
    "6. Gamma hedging\n",
    "\n",
    "a) Create a gamma neutral position in order to protect your portfolio from market risk To hedge, select a random option (specify your source) and its respective delta and gamma values:\n"
   ]
  },
  {
   "cell_type": "markdown",
   "id": "ac72e208",
   "metadata": {},
   "source": [
    "A random call contract is selected: \n",
    "Call (TSLA 230331C00172500) with \n",
    "\n",
    "$\\Delta = 0.88252$\n",
    "\n",
    "$\\Gamma = 0.01188$\n",
    "\n",
    "Source:https://www.nasdaq.com/market-activity/stocks/tsla/option-chain/call-put-options/tsla--230331p00172500"
   ]
  },
  {
   "cell_type": "markdown",
   "id": "ec44e946",
   "metadata": {},
   "source": [
    "To create a Gamma Neutral Position, a portfolio should be constructed such that total $\\Gamma$ of the portfolio will be zero. Supposing the original portfolio has an existing $\\Gamma_{1}$ with $n_{1}$ options, and a tradeable option has $\\Gamma_{2}$, the number of options, $n_{2}$, required for the latter, to creat a gamma neutral portfolio should satisfy:\n",
    "\n",
    "$\\Gamma_{1}n_{1} + \\Gamma_{2}n_{2} = 0 $\n",
    "\n",
    "$ n_{2} = -n_{1} \\Big(\\frac{\\Gamma_{1}}{\\Gamma_{2}}\\Big) $"
   ]
  },
  {
   "cell_type": "code",
   "execution_count": 31,
   "id": "fd1bfd69",
   "metadata": {},
   "outputs": [
    {
     "name": "stdout",
     "output_type": "stream",
     "text": [
      "0.0020824206113580854\n",
      "0.01188\n",
      "-5767\n"
     ]
    }
   ],
   "source": [
    "sigma = annualized_volatility\n",
    "delta_call, delta_put, gamma, theta_call, theta_put, vega, rho_call, rho_put = greeks(S, X1, r, T, sigma)\n",
    "gamma1 = gamma\n",
    "gamma2 = 0.01188\n",
    "print(gamma1)\n",
    "print(gamma2)\n",
    "n1 = number_of_calls_deltahedge\n",
    "n2 = -n1*gamma1/gamma2\n",
    "print(math.floor(n2))"
   ]
  },
  {
   "cell_type": "code",
   "execution_count": 32,
   "id": "4a1dadcb",
   "metadata": {},
   "outputs": [
    {
     "name": "stdout",
     "output_type": "stream",
     "text": [
      "Therefore 5767 call options need to be shorted(writing (selling to open)) to create a gamma neurtal portfolio\n",
      "This corresponds to about 58 call contracts.\n"
     ]
    }
   ],
   "source": [
    "print(f'Therefore {math.ceil(-n2)} call options need to be shorted(writing (selling to open)) to create a gamma neurtal portfolio')\n",
    "print(f'This corresponds to about {math.ceil(-n2/100)} call contracts.')"
   ]
  },
  {
   "cell_type": "markdown",
   "id": "62eee576",
   "metadata": {},
   "source": [
    "b) Based on the result in 5 b), how should you adjust your portfolio to maintain a delta gamma neutral position Make the necessary calculations and interpret the result"
   ]
  },
  {
   "cell_type": "markdown",
   "id": "9cacebbb",
   "metadata": {},
   "source": [
    "The result in 5.b resulted in delta neutral position. However by adjusting the portfolio, the original gamma will be affected.  Hence:"
   ]
  },
  {
   "cell_type": "code",
   "execution_count": 33,
   "id": "50da830c",
   "metadata": {},
   "outputs": [
    {
     "name": "stdout",
     "output_type": "stream",
     "text": [
      "There is a need to add 1 contract to maintain delta-neutrality as mentioned in (5).\n",
      "There is a need to short 1 call contract from the new portfolio to maintain gamma neutrality.\n"
     ]
    }
   ],
   "source": [
    "delta1, _, gamma1, _, _, _, _, _ =  greeks(S, X1, r, T, sigma)\n",
    "delta2, _, gamma2, _, _, _, _, _ =  greeks(S+0.67, X1, r, T, sigma)\n",
    "\n",
    "#The delta has already been maintained in 5.b and c. To maintain the gamma neutrality:\n",
    "additional_options = shares*(delta2-delta1) / (delta2)\n",
    "n1 = number_of_calls_deltahedge\n",
    "n2 = number_of_calls_deltahedge + additional_options\n",
    "\n",
    "#To maintain gamma-neutrality:\n",
    "\n",
    "gamma_add = n2*(gamma2-gamma1) / (gamma2)\n",
    "print(f'There is a need to add {math.ceil((n2-n1)/100)} contract to maintain delta-neutrality as mentioned in (5).')\n",
    "print(f'There is a need to short {-math.floor(gamma_add/100)} call contract from the new portfolio to maintain gamma neutrality.')\n"
   ]
  }
 ],
 "metadata": {
  "kernelspec": {
   "display_name": "Python 3 (ipykernel)",
   "language": "python",
   "name": "python3"
  },
  "language_info": {
   "codemirror_mode": {
    "name": "ipython",
    "version": 3
   },
   "file_extension": ".py",
   "mimetype": "text/x-python",
   "name": "python",
   "nbconvert_exporter": "python",
   "pygments_lexer": "ipython3",
   "version": "3.9.13"
  }
 },
 "nbformat": 4,
 "nbformat_minor": 5
}
